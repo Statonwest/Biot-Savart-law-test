{
 "cells": [
  {
   "attachments": {},
   "cell_type": "markdown",
   "metadata": {},
   "source": [
    "**Input Constants**"
   ]
  },
  {
   "cell_type": "code",
   "execution_count": null,
   "metadata": {},
   "outputs": [],
   "source": [
    "import numpy as np\n",
    "\n",
    "I = xx # amps\n",
    "I_unc = xx  # Current uncertainty\n",
    "L = yy # Lenth of the solinoid in meters\n",
    "L_unc = yy # Lenth uncertainty in meters\n",
    "\n",
    "u0 = np.pi*4*10**-7 # permeability of free space (4π × 10^-7 T m/A)"
   ]
  },
  {
   "cell_type": "markdown",
   "metadata": {},
   "source": []
  },
  {
   "attachments": {},
   "cell_type": "markdown",
   "metadata": {},
   "source": [
    "Expected Values"
   ]
  },
  {
   "cell_type": "code",
   "execution_count": null,
   "metadata": {},
   "outputs": [],
   "source": [
    "import numpy as np\n",
    "import matplotlib.pyplot as plt\n",
    "\n",
    "# N (number of turns in the coil)\n",
    "N_values = np.linspace(10, 75, 15) # (min, max, interval) range of N values to plot \n",
    "B_values = u0 * (N_values / L) * I # magnetic field strength in Tesla\n",
    "\n",
    "# calculate standard deviation of B values\n",
    "B_std = np.std(B_values)\n",
    "# calculate the line of best fit\n",
    "m_expected, b_expected = np.polyfit(N_values, B_values, 1)\n",
    "\n",
    "# plot B vs N with error bars and line of best fit\n",
    "plt.errorbar(N_values, B_values, yerr=B_std, fmt='o', capsize=5, label='Uncertaintie')\n",
    "plt.plot(N_values, B_values, label='Line of Best Fit')\n",
    "plt.xlabel('Number of Turns (N)')\n",
    "plt.ylabel('Magnetic Field Strength (B)')\n",
    "plt.title('Expected B vs N')\n",
    "plt.legend()\n",
    "\n",
    "# display y-axis values in scientific notation\n",
    "plt.ticklabel_format(style='sci', axis='y', scilimits=(0,0))\n",
    "\n",
    "# Calculate the uncertainties of the slope and y-intercept\n",
    "m_expected_unc = B_std / np.sqrt(len(N_values) * np.var(N_values, ddof=1))\n",
    "b_expected_unc = B_std * np.sqrt(1/len(N_values) + np.mean(N_values)**2 / np.var(N_values, ddof=1))\n",
    "\n",
    "# Add the slope and y-intercept with uncertainty to the plot\n",
    "plt.text(0.02, 0.81, 'Slope = {:.2e} +/- {:.2e}'.format(m_expected, m_expected_unc), transform=plt.gca().transAxes)\n",
    "plt.text(0.02, 0.765, 'Y-Int = {:.2e} +/- {:.2e}'.format(b_expected, b_expected_unc), transform=plt.gca().transAxes)\n",
    "plt.show()\n",
    "\n",
    "# Print slope and y-intercept with uncertainty\n",
    "print('Slope = {:.2e} +/- {:.2e}'.format(m_expected, m_expected_unc))\n",
    "print('Y-Intercept = {:.2e} +/- {:.2e}'.format(b_expected, b_expected_unc))"
   ]
  },
  {
   "cell_type": "markdown",
   "metadata": {},
   "source": []
  },
  {
   "attachments": {},
   "cell_type": "markdown",
   "metadata": {},
   "source": [
    "**Input Measued Values**"
   ]
  },
  {
   "cell_type": "code",
   "execution_count": null,
   "metadata": {},
   "outputs": [],
   "source": [
    "# Input measured values of B and N\n",
    "B_values = [x, x, x ] # Magnetic feild strength at N turns\n",
    "N_values = [y, y, y ] # Number of turns of the solenoid/slinky"
   ]
  },
  {
   "attachments": {},
   "cell_type": "markdown",
   "metadata": {},
   "source": [
    "Measued Values"
   ]
  },
  {
   "cell_type": "code",
   "execution_count": null,
   "metadata": {},
   "outputs": [],
   "source": [
    "import numpy as np\n",
    "import matplotlib.pyplot as plt\n",
    "\n",
    "# Create a dictionary to store the B values for each N point\n",
    "B_dict = {}\n",
    "for i, N in enumerate(N_values):\n",
    "    if N not in B_dict:\n",
    "        B_dict[N] = [B_values[i]]\n",
    "    else:\n",
    "        B_dict[N].append(B_values[i])\n",
    "\n",
    "# Calculate the mean of the B values for each N point\n",
    "N_unique = sorted(list(set(N_values)))\n",
    "B_mean = [np.mean(B_dict[N]) for N in N_unique]\n",
    "\n",
    "# Calculate the standard deviation of B values\n",
    "B_std = np.std(B_values, ddof=1)\n",
    "\n",
    "# Calculate the uncertaintie of each B value\n",
    "Bunc_values = [B_std] * len(B_values)\n",
    "\n",
    "# Bunc with sig fig\n",
    "Bunc_sigfig = [round(unc, 6) for unc in Bunc_values]\n",
    "\n",
    "# Calculate the line of best fit\n",
    "m, b = np.polyfit(N_values, B_values, 1)\n",
    "\n",
    "# Plot the line of best fit\n",
    "x = np.linspace(min(N_values), max(N_values), 100)\n",
    "plt.plot(x, m*x + b, '-', label='Line of Best Fit')\n",
    "\n",
    "# Plot B vs N with error bars\n",
    "plt.errorbar(N_unique, B_mean, yerr=B_std/np.sqrt([len(B_dict[N]) for N in N_unique]), fmt='o', capsize=5, label='Uncertaintie')\n",
    "plt.xlabel('Number of Turns (N)')   \n",
    "plt.ylabel('Magnetic Field Strength (B)')\n",
    "plt.title('Measured B vs N')\n",
    "plt.legend()\n",
    "\n",
    "# display y-axis values in scientific notation\n",
    "plt.ticklabel_format(style='sci', axis='y', scilimits=(0,0))\n",
    "\n",
    "# Combine N, B_values, and Bunc_sigfig into a single array\n",
    "data = np.column_stack((N_values, B_values, Bunc_sigfig))\n",
    "\n",
    "# Calculate the uncertainties of the slope and y-intercept\n",
    "m_unc = B_std / np.sqrt(len(N_values) * np.var(N_values, ddof=1))\n",
    "b_unc = B_std * np.sqrt(1/len(N_values) + np.mean(N_values)**2 / np.var(N_values, ddof=1))\n",
    "\n",
    "# Add the slope and y-intercept with uncertainty to the plot\n",
    "plt.text(0.02, 0.81, 'Slope = {:.2e} +/- {:.2e}'.format(m, m_unc), transform=plt.gca().transAxes)\n",
    "plt.text(0.02, 0.765, 'Y-Int = {:.2e} +/- {:.2e}'.format(b, b_unc), transform=plt.gca().transAxes)\n",
    "\n",
    "plt.show()\n",
    "\n",
    "# Print slope and y-intercept with uncertaintie\n",
    "print('Slope = {:.2e} +/- {:.2e}'.format(m, m_unc))\n",
    "print('Y-Intercept = {:.2e} +/- {:.2e}'.format(b, b_unc))\n",
    "\n",
    "# Save the data to a text file\n",
    "#np.savetxt('data.txt', data, fmt='%10.2f', delimiter='\\t', header='Number of Turns\\tB\\tB-uncertainties')"
   ]
  },
  {
   "attachments": {},
   "cell_type": "markdown",
   "metadata": {},
   "source": [
    "Diffrence in Expected vs. Measured Slope & Y-int"
   ]
  },
  {
   "cell_type": "code",
   "execution_count": null,
   "metadata": {},
   "outputs": [],
   "source": [
    "# % Diffrence in slope and Y-int\n",
    "percent_difference_slope = np.absolute((m - m_expected) / m_expected) * 100\n",
    "percent_difference_Yaxis = np.absolute((b - b_expected) / b_expected) * 100\n",
    "percent_difference_slope_err = (m_unc / m_expected) * 100\n",
    "percent_difference_Yint_err = (b_unc / b_expected) * 100\n",
    "\n",
    "print('Slope Difference = {:.2f} ∓ {:.2f} %'.format(percent_difference_slope, percent_difference_slope_err))\n",
    "print('Y-int Difference = {:.2e} ∓ {:.2e} %'.format(percent_difference_Yaxis, percent_difference_Yint_err))"
   ]
  },
  {
   "cell_type": "markdown",
   "metadata": {},
   "source": []
  },
  {
   "attachments": {},
   "cell_type": "markdown",
   "metadata": {},
   "source": [
    "**Calulating the permeability of free space**"
   ]
  },
  {
   "cell_type": "code",
   "execution_count": null,
   "metadata": {},
   "outputs": [],
   "source": [
    "import numpy as np\n",
    "\n",
    "# Calculate μ0 for each measurement\n",
    "u0_values = [(B * L) / (N * I) for B, N in zip(B_values, N_values)]\n",
    "\n",
    "# Calculate the average μ0 and its error\n",
    "u0_avg = np.mean(u0_values)\n",
    "u0_err = np.std(u0_values, ddof=1) / np.sqrt(len(u0_values))\n",
    "\n",
    "# Round the average and error to the proper significant figures\n",
    "u0_avg_rounded = round(u0_avg, -int(np.floor(np.log10(abs(u0_avg))))+1)\n",
    "u0_err_rounded = round(u0_err, -int(np.floor(np.log10(abs(u0_err)))))\n",
    "\n",
    "# Calculate the percent difference and its error\n",
    "percent_difference = np.absolute((u0_avg - u0) / u0) * 100\n",
    "percent_difference_err = (u0_err / u0) * 100\n",
    "\n",
    "# print the results\n",
    "print(\"Calculated Average μ0:\", u0_avg_rounded ,\"+/-\", u0_err_rounded ,\"Tm/A\")\n",
    "print(\"% Difference:\", round(percent_difference, 2), \"+/-\", round(percent_difference_err, 2), \"%\")"
   ]
  }
 ],
 "metadata": {
  "kernelspec": {
   "display_name": "Python 3",
   "language": "python",
   "name": "python3"
  },
  "language_info": {
   "codemirror_mode": {
    "name": "ipython",
    "version": 3
   },
   "file_extension": ".py",
   "mimetype": "text/x-python",
   "name": "python",
   "nbconvert_exporter": "python",
   "pygments_lexer": "ipython3",
   "version": "3.10.4"
  },
  "orig_nbformat": 4
 },
 "nbformat": 4,
 "nbformat_minor": 2
}
